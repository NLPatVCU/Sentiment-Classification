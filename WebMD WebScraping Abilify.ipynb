{
 "cells": [
  {
   "cell_type": "code",
   "execution_count": 12,
   "metadata": {},
   "outputs": [],
   "source": [
    "from urllib.request import urlopen\n",
    "import requests\n",
    "from bs4 import BeautifulSoup\n",
    "import re\n",
    "import time\n",
    "import csv\n",
    "\n",
    "import nltk.classify.util\n",
    "from nltk.classify import NaiveBayesClassifier\n",
    "from nltk.corpus import movie_reviews\n",
    "import math\n",
    "from nltk.tokenize import word_tokenize # or use some other tokenizer"
   ]
  },
  {
   "cell_type": "markdown",
   "metadata": {},
   "source": [
    "I got the directions on how to do this webscraping from:\n",
    "https://medium.freecodecamp.org/how-to-scrape-websites-with-python-and-beautifulsoup-5946935d93fe\n",
    "\n",
    "I'm web scraping the comments from WebMD on the drug Gilenya.  The rating is the Effectivness rating.  They also have a Ease of Use and Satisfaction rating."
   ]
  },
  {
   "cell_type": "code",
   "execution_count": 13,
   "metadata": {},
   "outputs": [],
   "source": [
    "quote_page1 = 'https://www.webmd.com/drugs/drugreview-64439-Abilify-oral.aspx?drugid=64439&drugname=Abilify-oral&pageIndex='\n",
    "quote_page2 = '&sortby=3&conditionFilter=-500'"
   ]
  },
  {
   "cell_type": "code",
   "execution_count": 14,
   "metadata": {},
   "outputs": [
    {
     "data": {
      "text/plain": [
       "20"
      ]
     },
     "execution_count": 14,
     "metadata": {},
     "output_type": "execute_result"
    }
   ],
   "source": [
    "#num_pages = 500\n",
    "num_pages = 4\n",
    "my_list=[]\n",
    "\n",
    "for i in range(num_pages):\n",
    "    #print(i)\n",
    "    url = quote_page1 + str(i) + quote_page2\n",
    "    #print(url)\n",
    "    #page = urlopen(url)\n",
    "    headers = {'User-Agent':'Mozilla/5.0'}\n",
    "    page = requests.get(url)\n",
    "    soup = BeautifulSoup(page.text, 'html.parser')\n",
    "    reviews = soup.find_all('div', attrs={'class': 'userPost'})\n",
    "    \n",
    "    for r in reviews:\n",
    "        com = r.find('p', id=re.compile(\"^comFull*\"))\n",
    "        if com is not None:\n",
    "            com = com.text.replace('Comment:','').replace('Hide Full Comment','')\n",
    "            rate = int(r.find_all('span', attrs={'class': 'current-rating'})[0].text.replace('Current Rating:','').strip())\n",
    "            rate = rate + int(r.find_all('span', attrs={'class': 'current-rating'})[1].text.replace('Current Rating:','').strip())\n",
    "            rate = rate + int(r.find_all('span', attrs={'class': 'current-rating'})[2].text.replace('Current Rating:','').strip())\n",
    "            rate = int(rate)/3.0\n",
    "            my_list.append({'comment': com, 'rating': rate})\n",
    "    #time.sleep(1)\n",
    "len(my_list)"
   ]
  },
  {
   "cell_type": "code",
   "execution_count": 15,
   "metadata": {},
   "outputs": [
    {
     "data": {
      "text/plain": [
       "{'comment': 'This medication (as an add on to Citalopram) makes me want to get up early every day and be productive.  I feel happier than I ever thought possible with the addition of this med (having dealt with minor chronic depression for most of my adult life).',\n",
       " 'rating': 185.0}"
      ]
     },
     "execution_count": 15,
     "metadata": {},
     "output_type": "execute_result"
    }
   ],
   "source": [
    "my_list[5]"
   ]
  },
  {
   "cell_type": "markdown",
   "metadata": {},
   "source": [
    "Now that we have all the comments we need to save them to a csv file."
   ]
  },
  {
   "cell_type": "code",
   "execution_count": 5,
   "metadata": {
    "collapsed": true
   },
   "outputs": [],
   "source": [
    "keys = my_list[0].keys()\n",
    "with open('gilenya_effectivness.csv', 'w') as output_file:\n",
    "    dict_writer = csv.DictWriter(output_file, keys)\n",
    "    dict_writer.writeheader()\n",
    "    dict_writer.writerows(my_list)"
   ]
  },
  {
   "cell_type": "code",
   "execution_count": null,
   "metadata": {
    "collapsed": true
   },
   "outputs": [],
   "source": []
  }
 ],
 "metadata": {
  "kernelspec": {
   "display_name": "Python 3",
   "language": "python",
   "name": "python3"
  },
  "language_info": {
   "codemirror_mode": {
    "name": "ipython",
    "version": 3
   },
   "file_extension": ".py",
   "mimetype": "text/x-python",
   "name": "python",
   "nbconvert_exporter": "python",
   "pygments_lexer": "ipython3",
   "version": "3.6.4"
  }
 },
 "nbformat": 4,
 "nbformat_minor": 2
}
