{
 "cells": [
  {
   "cell_type": "code",
   "execution_count": null,
   "metadata": {
    "collapsed": true
   },
   "outputs": [],
   "source": [
    "from urllib.request import urlopen\n",
    "from bs4 import BeautifulSoup\n",
    "import re\n",
    "import time\n",
    "import csv\n",
    "\n",
    "import nltk.classify.util\n",
    "from nltk.classify import NaiveBayesClassifier\n",
    "from nltk.corpus import movie_reviews\n",
    "import math\n",
    "from nltk.tokenize import word_tokenize # or use some other tokenizer"
   ]
  },
  {
   "cell_type": "markdown",
   "metadata": {},
   "source": [
    "I got the directions on how to do this webscraping from:\n",
    "https://medium.freecodecamp.org/how-to-scrape-websites-with-python-and-beautifulsoup-5946935d93fe\n",
    "\n",
    "I'm web scraping the comments from WebMD on the drug Gilenya.  The rating is the Effectivness rating.  They also have a Ease of Use and Satisfaction rating."
   ]
  },
  {
   "cell_type": "code",
   "execution_count": 2,
   "metadata": {
    "collapsed": true
   },
   "outputs": [],
   "source": [
    "quote_page1 = 'https://www.webmd.com/drugs/drugreview-154676-Gilenya+oral.aspx?drugid=154676&drugname=Gilenya+oral&pageIndex='\n",
    "quote_page2 = '&sortby=3&conditionFilter=-500'"
   ]
  },
  {
   "cell_type": "code",
   "execution_count": 3,
   "metadata": {},
   "outputs": [
    {
     "data": {
      "text/plain": [
       "75"
      ]
     },
     "execution_count": 3,
     "metadata": {},
     "output_type": "execute_result"
    }
   ],
   "source": [
    "num_pages = 75\n",
    "#num_pages = 4\n",
    "my_list=[]\n",
    "\n",
    "for i in range(num_pages):\n",
    "    #print(i)\n",
    "    url = quote_page1 + str(i) + quote_page2\n",
    "    #print(url)\n",
    "    page = urlopen(url)\n",
    "    soup = BeautifulSoup(page, 'html.parser')\n",
    "    reviews = soup.find_all('div', attrs={'class': 'userPost'})\n",
    "    \n",
    "    for r in reviews:\n",
    "        com = r.find('p', id=re.compile(\"^comFull*\"))\n",
    "        if com is not None:\n",
    "            com = com.text.replace('Comment:','').replace('Hide Full Comment','')\n",
    "            rate = r.find_all('span', attrs={'class': 'current-rating'})[0].text.replace('Current Rating:','').strip()\n",
    "            my_list.append({'comment': com, 'rating': rate})\n",
    "    #time.sleep(1)\n",
    "len(my_list)"
   ]
  },
  {
   "cell_type": "code",
   "execution_count": 4,
   "metadata": {},
   "outputs": [
    {
     "data": {
      "text/plain": [
       "{'comment': 'For me, Gilenya has been amazing!  I was diagnosed four years ago this month and initially put on Copaxone.  I hate needles and my condition was not improving on Copaxone; my MRIs were still showing active lesions and I was still having symptoms.  After eleven months on Copaxone my doctors decided to take me off it so I could try Gilenya.  After a few months and a round of SoluMedrol (my fifth in 16 months) my MRI showed no change, and it has been that way since October 2011.  I feel incredibly lucky to have found the right treatment for me.  I have no disability at all and a lot of the time I can forget that I have MS.  Gilenya has been a godsend!',\n",
       " 'rating': '5'}"
      ]
     },
     "execution_count": 4,
     "metadata": {},
     "output_type": "execute_result"
    }
   ],
   "source": [
    "my_list[5]"
   ]
  },
  {
   "cell_type": "markdown",
   "metadata": {},
   "source": [
    "Now that we have all the comments we need to save them to a csv file."
   ]
  },
  {
   "cell_type": "code",
   "execution_count": 5,
   "metadata": {
    "collapsed": true
   },
   "outputs": [],
   "source": [
    "keys = my_list[0].keys()\n",
    "with open('gilenya_effectivness.csv', 'w') as output_file:\n",
    "    dict_writer = csv.DictWriter(output_file, keys)\n",
    "    dict_writer.writeheader()\n",
    "    dict_writer.writerows(my_list)"
   ]
  },
  {
   "cell_type": "code",
   "execution_count": null,
   "metadata": {
    "collapsed": true
   },
   "outputs": [],
   "source": []
  }
 ],
 "metadata": {
  "kernelspec": {
   "display_name": "Python 3",
   "language": "python",
   "name": "python3"
  },
  "language_info": {
   "codemirror_mode": {
    "name": "ipython",
    "version": 3
   },
   "file_extension": ".py",
   "mimetype": "text/x-python",
   "name": "python",
   "nbconvert_exporter": "python",
   "pygments_lexer": "ipython3",
   "version": "3.6.1"
  }
 },
 "nbformat": 4,
 "nbformat_minor": 2
}
